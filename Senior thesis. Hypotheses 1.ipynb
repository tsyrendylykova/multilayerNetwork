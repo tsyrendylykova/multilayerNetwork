{
 "cells": [
  {
   "cell_type": "code",
   "execution_count": 1,
   "metadata": {
    "collapsed": true
   },
   "outputs": [],
   "source": [
    "import numpy as np\n",
    "import networkx as nx\n",
    "import random\n",
    "from collections import defaultdict\n",
    "import matplotlib.pyplot as plt\n",
    "from numpy import linalg as LA\n",
    "%matplotlib inline"
   ]
  },
  {
   "cell_type": "markdown",
   "metadata": {},
   "source": [
    "### MODEL"
   ]
  },
  {
   "cell_type": "code",
   "execution_count": 98,
   "metadata": {},
   "outputs": [],
   "source": [
    "class Model():\n",
    "    def __init__(self, susc=1000, inf=3, rec=0, inf_prob=0.09, susc_prob=0.05):\n",
    "        self.s = int(susc)\n",
    "        self.i = int(inf)\n",
    "        self.r = int(rec)\n",
    "        self.threshold_inf = float(inf_prob)\n",
    "        self.threshold_susc = float(susc_prob)\n",
    "\n",
    "    def create_SIS_on_Network(self, G):\n",
    "        S = self.s\n",
    "        I = self.i\n",
    "\n",
    "        N = S + I\n",
    "        N = float(N)\n",
    "\n",
    "        time_sis = 0\n",
    "\n",
    "        threshold_inf = self.threshold_inf\n",
    "        threshold_susc = self.threshold_susc\n",
    "\n",
    "        sListSIS = []\n",
    "        iListSIS = []\n",
    "\n",
    "        while (S > 0) and (I > 0) and (time_sis<5000):\n",
    "            newI = 0\n",
    "            for i in range(S):\n",
    "                for j in nx.all_neighbors(G, i):\n",
    "                    if random.random() < threshold_inf*(I/N):\n",
    "                        newI += 1\n",
    "            recoverI = 0\n",
    "            for i in range(I):\n",
    "                if random.random() < threshold_susc:\n",
    "                    recoverI += 1\n",
    "            S -= (newI - recoverI)\n",
    "            I += (newI - recoverI)\n",
    "\n",
    "            sListSIS.append(S)\n",
    "            iListSIS.append(I)\n",
    "            time_sis += 1\n",
    "\n",
    "        #f = plt.figure()\n",
    "        #plt.plot(iListSIS, 'b', label='Infectives')\n",
    "        #plt.plot(sListSIS, 'g', label='Susceptibles')\n",
    "        #plt.legend()\n",
    "        #plt.xlabel('time')\n",
    "        #plt.ylabel('population')\n",
    "        #plt.title('SIS model on Erdos-Renyu network')\n",
    "        #f.savefig('sis_network.png')\n",
    "        \n",
    "        if time_sis < 5000 and (S <= 0 or I <= 0):\n",
    "            count_add = 5000 - len(iListSIS)\n",
    "            for i in range(count_add):\n",
    "                if I <= 0:\n",
    "                    iListSIS.append(0)\n",
    "                if S <= 0:\n",
    "                    iListSIS.append(G.number_of_nodes())\n",
    "                \n",
    "        return iListSIS, sListSIS"
   ]
  },
  {
   "cell_type": "code",
   "execution_count": 75,
   "metadata": {
    "collapsed": true,
    "scrolled": false
   },
   "outputs": [],
   "source": [
    "exSIS_Network = Model(susc=1000, inf=3, rec=0, inf_prob=0.00009, susc_prob=0.0005)\n",
    "G = nx.erdos_renyi_graph(1000, 0.05)\n",
    "inf, susc = exSIS_Network.create_SIS_on_Network(G)"
   ]
  },
  {
   "cell_type": "code",
   "execution_count": 76,
   "metadata": {},
   "outputs": [
    {
     "data": {
      "text/plain": [
       "Text(0.5,0,'time')"
      ]
     },
     "execution_count": 76,
     "metadata": {},
     "output_type": "execute_result"
    },
    {
     "data": {
      "image/png": "[encoded data removed]",
      "text/plain": [
       "<matplotlib.figure.Figure at 0x1527db2e10>"
      ]
     },
     "metadata": {},
     "output_type": "display_data"
    }
   ],
   "source": [
    "inf_frac = [x/1003.0 for x in inf]\n",
    "plt.plot(inf_frac, 'b')\n",
    "plt.ylabel(\"% of infected\")\n",
    "plt.xlabel(\"time\")"
   ]
  },
  {
   "cell_type": "code",
   "execution_count": 4,
   "metadata": {
    "collapsed": true,
    "scrolled": false
   },
   "outputs": [],
   "source": [
    "def get_stability_time(inf_frac, num_steps, interval, eps, threshold):\n",
    "    count = 0\n",
    "    for i, j in zip(range(0, num_steps - interval, 1), range(interval, num_steps, 1)):\n",
    "        if abs(inf_frac[j] - inf_frac[i]) < eps:\n",
    "            count += 1\n",
    "        else:\n",
    "            count = 0\n",
    "        if count > threshold:\n",
    "            stab_time = i\n",
    "            break\n",
    "    return stab_time        "
   ]
  },
  {
   "cell_type": "code",
   "execution_count": 77,
   "metadata": {},
   "outputs": [
    {
     "data": {
      "text/plain": [
       "2353"
      ]
     },
     "execution_count": 77,
     "metadata": {},
     "output_type": "execute_result"
    }
   ],
   "source": [
    "get_stability_time(inf_frac, 5000, 1000, 0.01, 20)"
   ]
  },
  {
   "cell_type": "markdown",
   "metadata": {},
   "source": [
    "### Ансамбль из 100 сетей"
   ]
  },
  {
   "cell_type": "code",
   "execution_count": 5,
   "metadata": {
    "collapsed": true
   },
   "outputs": [],
   "source": [
    "network_arr = np.arange(75)\n",
    "N = 1000\n",
    "p = 0.05\n",
    "G_ensemble = []\n",
    "for _ in network_arr:\n",
    "    G_ensemble.append(nx.erdos_renyi_graph(N, p))"
   ]
  },
  {
   "cell_type": "code",
   "execution_count": 6,
   "metadata": {},
   "outputs": [
    {
     "name": "stdout",
     "output_type": "stream",
     "text": [
      "24946 25027\n"
     ]
    }
   ],
   "source": [
    "print(nx.number_of_edges(G_ensemble[0]), nx.number_of_edges(G_ensemble[1]))"
   ]
  },
  {
   "cell_type": "markdown",
   "metadata": {},
   "source": [
    "### Зависимость доли зараженных от вероятности заражения"
   ]
  },
  {
   "cell_type": "markdown",
   "metadata": {},
   "source": [
    "### Вариант 1"
   ]
  },
  {
   "cell_type": "code",
   "execution_count": 102,
   "metadata": {},
   "outputs": [],
   "source": [
    "inf_array = []\n",
    "for g in G_ensemble:\n",
    "    exSIS_Network = Model(susc=997, inf=3, rec=0, inf_prob=0.00009, susc_prob=0.0005)\n",
    "    inf, susc = exSIS_Network.create_SIS_on_Network(g)\n",
    "    inf_array.append(inf)"
   ]
  },
  {
   "cell_type": "code",
   "execution_count": 103,
   "metadata": {},
   "outputs": [
    {
     "data": {
      "text/plain": [
       "array([[  4,   3,   3, ...,   3,   3,   3],\n",
       "       [  4,   3,   3, ...,   3,   3,   3],\n",
       "       [  4,   3,   3, ...,   3,   3,   3],\n",
       "       ...,\n",
       "       [889, 877, 888, ..., 890, 876, 877],\n",
       "       [889, 877, 886, ..., 890, 875, 876],\n",
       "       [889, 878, 885, ..., 888, 875, 876]])"
      ]
     },
     "execution_count": 103,
     "metadata": {},
     "output_type": "execute_result"
    }
   ],
   "source": [
    "ens_inf = np.stack((inf_array), axis=-1)\n",
    "avrg_inf = [np.mean(lst) for lst in ens_inf]\n",
    "ens_inf"
   ]
  },
  {
   "cell_type": "code",
   "execution_count": 104,
   "metadata": {},
   "outputs": [
    {
     "data": {
      "text/plain": [
       "Text(0.5,1,'SIS model on Erdos-Renyu network (ensemble)')"
      ]
     },
     "execution_count": 104,
     "metadata": {},
     "output_type": "execute_result"
    },
    {
     "data": {
      "image/png": "[encoded data removed]",
      "text/plain": [
       "<matplotlib.figure.Figure at 0x1535ffd0f0>"
      ]
     },
     "metadata": {},
     "output_type": "display_data"
    }
   ],
   "source": [
    "f = plt.figure()\n",
    "plt.plot(avrg_inf, 'b', label='Infectives')\n",
    "plt.legend()\n",
    "plt.xlabel('time')\n",
    "plt.ylabel('population')\n",
    "plt.title('SIS model on Erdos-Renyu network (ensemble)')"
   ]
  },
  {
   "cell_type": "code",
   "execution_count": 105,
   "metadata": {},
   "outputs": [
    {
     "data": {
      "text/plain": [
       "3638"
      ]
     },
     "execution_count": 105,
     "metadata": {},
     "output_type": "execute_result"
    }
   ],
   "source": [
    "get_stability_time(avrg_inf, 5000, 500, 0.1, 1)"
   ]
  },
  {
   "cell_type": "markdown",
   "metadata": {},
   "source": [
    "### Вариант 2"
   ]
  },
  {
   "cell_type": "code",
   "execution_count": 15,
   "metadata": {},
   "outputs": [],
   "source": [
    "inf_array = []\n",
    "exSIS_Network = Model(susc=997, inf=3, rec=0, inf_prob=0.00009, susc_prob=0.005)\n",
    "for g in G_ensemble:\n",
    "    inf, susc = exSIS_Network.create_SIS_on_Network(g)\n",
    "    inf_array.append(inf)"
   ]
  },
  {
   "cell_type": "code",
   "execution_count": 17,
   "metadata": {},
   "outputs": [
    {
     "data": {
      "text/plain": [
       "array([[  3,   4,   3, ...,   3,   3,   3],\n",
       "       [  2,   5,   3, ...,   4,   3,   2],\n",
       "       [  2,   6,   3, ...,   4,   3,   2],\n",
       "       ...,\n",
       "       [893, 889, 897, ..., 887, 910, 902],\n",
       "       [890, 892, 900, ..., 889, 913, 901],\n",
       "       [888, 891, 903, ..., 890, 913, 899]])"
      ]
     },
     "execution_count": 17,
     "metadata": {},
     "output_type": "execute_result"
    }
   ],
   "source": [
    "ens_inf = np.stack((inf_array), axis=-1)\n",
    "avrg_inf = [np.mean(lst) for lst in ens_inf]\n",
    "ens_inf"
   ]
  },
  {
   "cell_type": "code",
   "execution_count": 18,
   "metadata": {},
   "outputs": [
    {
     "data": {
      "text/plain": [
       "Text(0.5,1,'SIS model on Erdos-Renyu network (ensemble)')"
      ]
     },
     "execution_count": 18,
     "metadata": {},
     "output_type": "execute_result"
    },
    {
     "data": {
      "image/png": "[encoded data removed]",
      "text/plain": [
       "<matplotlib.figure.Figure at 0x15333b02b0>"
      ]
     },
     "metadata": {},
     "output_type": "display_data"
    }
   ],
   "source": [
    "f = plt.figure()\n",
    "plt.plot(avrg_inf, 'b', label='Infectives')\n",
    "plt.legend()\n",
    "plt.xlabel('time')\n",
    "plt.ylabel('population')\n",
    "plt.title('SIS model on Erdos-Renyu network (ensemble)')"
   ]
  },
  {
   "cell_type": "code",
   "execution_count": 19,
   "metadata": {},
   "outputs": [
    {
     "data": {
      "text/plain": [
       "348"
      ]
     },
     "execution_count": 19,
     "metadata": {},
     "output_type": "execute_result"
    }
   ],
   "source": [
    "get_stability_time(avrg_inf, 5000, 500, 0.1, 1)"
   ]
  },
  {
   "cell_type": "markdown",
   "metadata": {},
   "source": [
    "### Построим зависимость времени стабилизации от вероятности заражения"
   ]
  },
  {
   "cell_type": "code",
   "execution_count": 74,
   "metadata": {},
   "outputs": [
    {
     "data": {
      "text/plain": [
       "array([9.0e-05, 1.8e-04, 2.7e-04, 3.6e-04, 4.5e-04, 5.4e-04, 6.3e-04,\n",
       "       7.2e-04, 8.1e-04, 9.0e-04])"
      ]
     },
     "execution_count": 74,
     "metadata": {},
     "output_type": "execute_result"
    }
   ],
   "source": [
    "p_inf_arr = np.linspace(0.00009, 0.0009, 10)\n",
    "p_inf_arr"
   ]
  },
  {
   "cell_type": "code",
   "execution_count": 99,
   "metadata": {},
   "outputs": [
    {
     "name": "stdout",
     "output_type": "stream",
     "text": [
      "--------------------------------\n",
      "infection probablity:  9e-05\n",
      "--------------------------------\n",
      "infection probablity:  0.00017999999999999998\n",
      "--------------------------------\n",
      "infection probablity:  0.00027\n",
      "--------------------------------\n",
      "infection probablity:  0.00035999999999999997\n",
      "--------------------------------\n",
      "infection probablity:  0.00045\n",
      "--------------------------------\n",
      "infection probablity:  0.00054\n",
      "--------------------------------\n",
      "infection probablity:  0.0006299999999999999\n",
      "--------------------------------\n",
      "infection probablity:  0.0007199999999999999\n",
      "--------------------------------\n",
      "infection probablity:  0.00081\n",
      "--------------------------------\n",
      "infection probablity:  0.0009\n"
     ]
    }
   ],
   "source": [
    "t_stab = []\n",
    "for prob in p_inf_arr:\n",
    "    print(\"--------------------------------\")\n",
    "    print(\"infection probablity: \", prob)\n",
    "    \n",
    "    inf_array = []\n",
    "    exSIS_Network = Model(susc=997, inf=3, rec=0, inf_prob=prob, susc_prob=0.005)\n",
    "    for g in G_ensemble:\n",
    "        inf, susc = exSIS_Network.create_SIS_on_Network(g)\n",
    "        inf_array.append(inf)\n",
    "    ens_inf = np.stack((inf_array), axis=-1)\n",
    "    avrg_inf = [np.mean(lst) for lst in ens_inf]\n",
    "    \n",
    "    stab_time = get_stability_time(avrg_inf, 5000, 500, 0.1, 1)\n",
    "    t_stab.append(stab_time)"
   ]
  },
  {
   "cell_type": "code",
   "execution_count": 101,
   "metadata": {},
   "outputs": [
    {
     "data": {
      "text/plain": [
       "Text(0.5,1,'SIS model on Erdos-Renyu network (ensemble)')"
      ]
     },
     "execution_count": 101,
     "metadata": {},
     "output_type": "execute_result"
    },
    {
     "data": {
      "image/png": "[encoded data removed]",
      "text/plain": [
       "<matplotlib.figure.Figure at 0x15355e1550>"
      ]
     },
     "metadata": {},
     "output_type": "display_data"
    }
   ],
   "source": [
    "f = plt.figure()\n",
    "plt.plot(p_inf_arr, t_stab)\n",
    "plt.xlabel('infection probability')\n",
    "plt.ylabel('stabilization time')\n",
    "plt.title('SIS model on Erdos-Renyu network (ensemble)')"
   ]
  },
  {
   "cell_type": "markdown",
   "metadata": {},
   "source": [
    "### Проверим гипотезу 1\n",
    "\n",
    "Пусть мы имеем граф Эрдеша-Реньи с N вершинами и вероятностью связи p. Диаметр графа $d = N * p$. \n",
    "Верно ли, что $\\alpha$ ~ $\\frac{1}{d}$?"
   ]
  },
  {
   "cell_type": "markdown",
   "metadata": {},
   "source": [
    "1.Создадим 10 графов с разным числом вершин (от 500 до 5000)"
   ]
  },
  {
   "cell_type": "code",
   "execution_count": 4,
   "metadata": {
    "collapsed": true
   },
   "outputs": [],
   "source": [
    "N_arr = np.arange(500, 5001, 500)\n",
    "p = 0.05\n",
    "G_arr = [nx.erdos_renyi_graph(N, p) for N in N_arr]"
   ]
  },
  {
   "cell_type": "code",
   "execution_count": 5,
   "metadata": {},
   "outputs": [
    {
     "data": {
      "text/plain": [
       "5000"
      ]
     },
     "execution_count": 5,
     "metadata": {},
     "output_type": "execute_result"
    }
   ],
   "source": [
    "nx.number_of_nodes(G_arr[9])"
   ]
  },
  {
   "cell_type": "markdown",
   "metadata": {},
   "source": [
    "2.Посчитаем порог перколяции для каждого графа"
   ]
  },
  {
   "cell_type": "code",
   "execution_count": 4,
   "metadata": {
    "collapsed": true
   },
   "outputs": [],
   "source": [
    "def getInfectedFractionModel2(G, numberSteps, thresholdInf, startNode):    \n",
    "    inf = []\n",
    "    susc = []\n",
    "    \n",
    "    inf_dict = defaultdict(list)\n",
    "    \n",
    "    cur_infected_node = startNode\n",
    "    \n",
    "    for i in range(numberSteps):\n",
    "        \n",
    "        #заражаем здоровую вершину\n",
    "        if cur_infected_node not in inf:\n",
    "            inf.append(cur_infected_node)\n",
    "        \n",
    "        #выбираем всех неактивных соседей этой вершины\n",
    "        not_infected_neighbors = []\n",
    "        for j in list(nx.all_neighbors(G, cur_infected_node)):\n",
    "            if j not in inf:\n",
    "                not_infected_neighbors.append(j)\n",
    "    \n",
    "        #если у вершины нет здоровых соседей, завершаем заражение\n",
    "        if not not_infected_neighbors:\n",
    "            print(\"Exit\")\n",
    "            break\n",
    "            \n",
    "        if not_infected_neighbors:\n",
    "            for elem in not_infected_neighbors:\n",
    "                p = random.uniform(0, 1)\n",
    "                if p < thresholdInf:\n",
    "                    inf_dict[i].append(elem)\n",
    "            \n",
    "        #добавим в список зараженных новые вершины\n",
    "        for j in inf_dict[i]:\n",
    "            inf.append(j)\n",
    "        \n",
    "        if inf_dict[i]:\n",
    "            inf.remove(cur_infected_node)\n",
    "            cur_infected_node = random.choice(inf_dict[i])\n",
    "            \n",
    "    return inf"
   ]
  },
  {
   "cell_type": "code",
   "execution_count": 26,
   "metadata": {
    "collapsed": true
   },
   "outputs": [],
   "source": [
    "infection_array = []\n",
    "prob_model2 = np.arange(0.00001, 0.1, 0.01)\n",
    "for i in range(10):\n",
    "    startNode = random.randint(1, nx.number_of_nodes(G_arr[i]))\n",
    "    inf_arr_model2 = []\n",
    "    for p in prob_model2:\n",
    "        infected_arr = getInfectedFractionModel2(G_arr[i], 3000, p, startNode)\n",
    "        inf_arr_model2.append(len(infected_arr) / nx.number_of_nodes(G_arr[i]))\n",
    "    infection_array.append(inf_arr_model2)"
   ]
  },
  {
   "cell_type": "code",
   "execution_count": 6,
   "metadata": {},
   "outputs": [
    {
     "data": {
      "image/png": "[encoded data removed]",
      "text/plain": [
       "<matplotlib.figure.Figure at 0x153556f278>"
      ]
     },
     "metadata": {},
     "output_type": "display_data"
    }
   ],
   "source": [
    "fig, ax = plt.subplots(figsize=(10, 6))\n",
    "\n",
    "ax.plot(prob_model2, infection_array[0], 'r', linewidth=1.5, label='500')\n",
    "\n",
    "ax.plot(prob_model2, infection_array[1], 'g', linewidth=1.5, label='1000')\n",
    "\n",
    "ax.plot(prob_model2, infection_array[2], 'b', linewidth=1.5, label='1500')\n",
    "\n",
    "ax.plot(prob_model2, infection_array[3], 'y', linewidth=1.5, label='2000')\n",
    "\n",
    "ax.plot(prob_model2, infection_array[8], 'c', linewidth=1.5, label='4500')\n",
    "\n",
    "ax.plot(prob_model2, infection_array[9], 'm', linewidth=1.5, label='5000')\n",
    "\n",
    "ax.plot(prob_model2, np.full((len(prob_model2), 1), 0.45), 'k--', linewidth=0.8)\n",
    "\n",
    "ax.grid(True)\n",
    "ax.legend(loc='right')\n",
    "ax.set_title('Infected fraction as a function of infected probability')\n",
    "ax.set_xlabel('infected probability')\n",
    "ax.set_ylabel('% of infected in total')\n",
    "\n",
    "plt.show()"
   ]
  },
  {
   "cell_type": "markdown",
   "metadata": {},
   "source": [
    "### Проверим гипотезу о пороге перколяции и максимальном собственном значении матрицы\n",
    "\n",
    "Построим матрицу A смежности графа и вектор s зараженных вершин. Рассмотрим максимальное собственное значение $\\lambda_{1}$ матрицы $sA^{n}$. Верно ли, что порог перколяции $\\alpha$ ~ $\\frac{1}{\\lambda_{1}}$ ?"
   ]
  },
  {
   "cell_type": "code",
   "execution_count": 7,
   "metadata": {
    "collapsed": true
   },
   "outputs": [],
   "source": [
    "N = 1000\n",
    "p = 0.05\n",
    "G = nx.erdos_renyi_graph(N, p)"
   ]
  },
  {
   "cell_type": "code",
   "execution_count": 9,
   "metadata": {
    "collapsed": true
   },
   "outputs": [],
   "source": [
    "A = nx.adjacency_matrix(G)"
   ]
  },
  {
   "cell_type": "code",
   "execution_count": 10,
   "metadata": {},
   "outputs": [
    {
     "data": {
      "text/plain": [
       "matrix([[0, 0, 0, ..., 0, 0, 0],\n",
       "        [0, 0, 0, ..., 0, 0, 0],\n",
       "        [0, 0, 0, ..., 0, 0, 0],\n",
       "        ...,\n",
       "        [0, 0, 0, ..., 0, 0, 0],\n",
       "        [0, 0, 0, ..., 0, 0, 0],\n",
       "        [0, 0, 0, ..., 0, 0, 0]], dtype=int64)"
      ]
     },
     "execution_count": 10,
     "metadata": {},
     "output_type": "execute_result"
    }
   ],
   "source": [
    "A = A.todense()\n",
    "A"
   ]
  },
  {
   "cell_type": "code",
   "execution_count": 11,
   "metadata": {},
   "outputs": [
    {
     "data": {
      "text/plain": [
       "(1000, 1000)"
      ]
     },
     "execution_count": 11,
     "metadata": {},
     "output_type": "execute_result"
    }
   ],
   "source": [
    "A.shape"
   ]
  },
  {
   "cell_type": "code",
   "execution_count": 14,
   "metadata": {},
   "outputs": [
    {
     "data": {
      "text/plain": [
       "50.79233479904683"
      ]
     },
     "execution_count": 14,
     "metadata": {},
     "output_type": "execute_result"
    }
   ],
   "source": [
    "max(LA.eigvalsh(A))"
   ]
  },
  {
   "cell_type": "code",
   "execution_count": 158,
   "metadata": {},
   "outputs": [
    {
     "data": {
      "text/plain": [
       "0.847"
      ]
     },
     "execution_count": 158,
     "metadata": {},
     "output_type": "execute_result"
    }
   ],
   "source": [
    "startNode = random.randint(1, nx.number_of_nodes(G))\n",
    "infected_arr = getInfectedFractionModel2(G, 1000, 0.5, startNode)\n",
    "inf_frac = len(infected_arr) / N\n",
    "inf_frac"
   ]
  },
  {
   "cell_type": "code",
   "execution_count": 159,
   "metadata": {
    "collapsed": true
   },
   "outputs": [],
   "source": [
    "s = list(np.full(N, 0))\n",
    "for i in infected_arr:\n",
    "    del s[i]\n",
    "    s.insert(i, 1)"
   ]
  },
  {
   "cell_type": "code",
   "execution_count": 160,
   "metadata": {
    "collapsed": true
   },
   "outputs": [],
   "source": [
    "ss = np.dot(s, A)"
   ]
  },
  {
   "cell_type": "code",
   "execution_count": 199,
   "metadata": {},
   "outputs": [
    {
     "name": "stdout",
     "output_type": "stream",
     "text": [
      "[0 2 0 0 2]\n"
     ]
    }
   ],
   "source": [
    "A_ex = [[0, 1, 0, 0, 1],[1, 0, 0, 1, 0],[0, 0, 0, 0, 0],[0, 1, 0, 0, 1],[1, 0, 0, 1, 0]]\n",
    "s_ex = [0, 1, 0, 0, 0]\n",
    "s2 = np.dot(s_ex, A_ex)\n",
    "s3 = np.dot(s2, A_ex)\n",
    "print(s3)"
   ]
  },
  {
   "cell_type": "code",
   "execution_count": 200,
   "metadata": {},
   "outputs": [
    {
     "data": {
      "text/plain": [
       "array([0, 2, 0, 0, 2])"
      ]
     },
     "execution_count": 200,
     "metadata": {},
     "output_type": "execute_result"
    }
   ],
   "source": [
    "np.dot(s_ex, lg.matrix_power(A_ex, 2))"
   ]
  },
  {
   "cell_type": "code",
   "execution_count": null,
   "metadata": {
    "collapsed": true
   },
   "outputs": [],
   "source": []
  }
 ],
 "metadata": {
  "kernelspec": {
   "display_name": "Python 3",
   "language": "python",
   "name": "python3"
  },
  "language_info": {
   "codemirror_mode": {
    "name": "ipython",
    "version": 3
   },
   "file_extension": ".py",
   "mimetype": "text/x-python",
   "name": "python",
   "nbconvert_exporter": "python",
   "pygments_lexer": "ipython3",
   "version": "3.6.3"
  }
 },
 "nbformat": 4,
 "nbformat_minor": 2
}
