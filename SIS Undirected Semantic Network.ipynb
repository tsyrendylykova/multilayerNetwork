{
 "cells": [
  {
   "cell_type": "code",
   "execution_count": 1,
   "metadata": {
    "collapsed": true
   },
   "outputs": [],
   "source": [
    "import numpy as np\n",
    "import networkx as nx\n",
    "import random\n",
    "from collections import defaultdict\n",
    "import collections\n",
    "import matplotlib.pyplot as plt\n",
    "from numpy import linalg as LA\n",
    "import scipy\n",
    "import pandas as pd\n",
    "from scipy.interpolate import interp1d\n",
    "%matplotlib inline"
   ]
  },
  {
   "cell_type": "code",
   "execution_count": 2,
   "metadata": {
    "collapsed": true
   },
   "outputs": [],
   "source": [
    "class _ListDict_(object):\n",
    "    \n",
    "    def __init__(self):\n",
    "        self.item_to_position = {}\n",
    "        self.items = []\n",
    "\n",
    "    def __len__(self):\n",
    "        return len(self.items)\n",
    "\n",
    "    def add(self, item):\n",
    "        if item in self.item_to_position:\n",
    "            return\n",
    "        self.items.append(item)\n",
    "        self.item_to_position[item] = len(self.items)-1\n",
    "\n",
    "    def remove(self, item):\n",
    "        if item in self.item_to_position:\n",
    "            position = self.item_to_position.pop(item)\n",
    "            del self.items[position]\n",
    "            for i in range(len(self.items)):\n",
    "                if i >= position:\n",
    "                    self.item_to_position[self.items[i]] = self.item_to_position[self.items[i]] - 1\n",
    "\n",
    "    def choose_random(self):\n",
    "        return random.choice(self.items)\n",
    "    \n",
    "    def __repr__(self):\n",
    "         return repr(self.items)\n",
    "\n",
    "    def __str__(self):\n",
    "         return str(self.items)"
   ]
  },
  {
   "cell_type": "code",
   "execution_count": 3,
   "metadata": {
    "collapsed": true
   },
   "outputs": [],
   "source": [
    "def initialize_SIS_(G, initial_infecteds, infection_times, recovery_times, tmin):\n",
    "    times = [tmin]\n",
    "    S = [G.order()-len(initial_infecteds)]\n",
    "    I = [len(initial_infecteds)]\n",
    "    status = defaultdict(lambda:'S') #by default all are susceptible\n",
    "    infected = list(initial_infecteds)\n",
    "    infected_neighbor_count = defaultdict(lambda:0)\n",
    "    risk_group = defaultdict(lambda:_ListDict_()) \n",
    "    \n",
    "    for node in initial_infecteds:\n",
    "        status[node] = 'I'\n",
    "    for node in initial_infecteds:\n",
    "        for neighbor in G.neighbors(node):\n",
    "            if status[neighbor] == 'S':\n",
    "                infected_neighbor_count[neighbor] += 1\n",
    "                if infected_neighbor_count[neighbor] > 1:\n",
    "                    risk_group[infected_neighbor_count[neighbor]-1].remove(\n",
    "                                                                    neighbor)\n",
    "                        \n",
    "                risk_group[infected_neighbor_count[neighbor]].add(neighbor)\n",
    "\n",
    "    return times, S, I, status, infected, infected_neighbor_count, risk_group"
   ]
  },
  {
   "cell_type": "code",
   "execution_count": 4,
   "metadata": {
    "collapsed": true
   },
   "outputs": [],
   "source": [
    "def infect(G, S, I, R, times, infected, current_time, \n",
    "                        infected_neighbor_count, risk_group, status, \n",
    "                        infection_times):\n",
    "    r = random.random()*sum(n*len(risk_group[n]) for n in risk_group.keys())\n",
    "    \n",
    "    for n in risk_group.keys():\n",
    "        r -= n*len(risk_group[n])\n",
    "        if r < 0:\n",
    "            break\n",
    "\n",
    "    recipient = risk_group[n].choose_random()\n",
    "    \n",
    "    risk_group[n].remove(recipient)\n",
    "    infected.append(recipient)\n",
    "    infection_times[recipient].append(current_time)\n",
    "    status[recipient] = 'I'\n",
    "    S.append(S[-1] - 1)\n",
    "    I.append(I[-1] + 1)\n",
    "    times.append(current_time)\n",
    "\n",
    "    for neighbor in G.neighbors(recipient):\n",
    "        if status[neighbor] == 'S':\n",
    "            if infected_neighbor_count[neighbor] > 0:\n",
    "                risk_group[infected_neighbor_count[neighbor]].remove(neighbor)\n",
    "            infected_neighbor_count[neighbor] += 1\n",
    "            risk_group[infected_neighbor_count[neighbor]].add(neighbor)"
   ]
  },
  {
   "cell_type": "code",
   "execution_count": 5,
   "metadata": {
    "collapsed": true
   },
   "outputs": [],
   "source": [
    "def recover(G, S, I, times, infected, current_time, status, \n",
    "            infected_neighbor_count, risk_group, recovery_times):\n",
    "    \n",
    "    index = random.randint(0, I[-1] - 1)\n",
    "    infected[index], infected[-1] = infected[-1], infected[index]\n",
    "    recovering_node = infected.pop()\n",
    "\n",
    "    I.append(I[-1] - 1)\n",
    "    status[recovering_node] = 'S'\n",
    "    S.append(S[-1] + 1)\n",
    "    times.append(current_time)\n",
    "    infected_neighbor_count[recovering_node] = 0\n",
    "    \n",
    "    for neighbor in G.neighbors(recovering_node):\n",
    "        if neighbor == recovering_node:\n",
    "            continue\n",
    "        if status[neighbor] == 'I':\n",
    "            infected_neighbor_count[recovering_node] += 1\n",
    "        else:\n",
    "            risk_group[infected_neighbor_count[neighbor]].remove(neighbor)\n",
    "            infected_neighbor_count[neighbor] -= 1\n",
    "            if infected_neighbor_count[neighbor]>0:\n",
    "                risk_group[infected_neighbor_count[neighbor]].add(neighbor)\n",
    "    if infected_neighbor_count[recovering_node]>0:\n",
    "        risk_group[infected_neighbor_count[recovering_node]].add(recovering_node)"
   ]
  },
  {
   "cell_type": "code",
   "execution_count": 6,
   "metadata": {
    "collapsed": true
   },
   "outputs": [],
   "source": [
    "def SIS(G, tau, gamma, initial_infecteds = None, rho = None, tmin = 0, tmax = 100):\n",
    "\n",
    "    infection_times = defaultdict(lambda: []) #defaults to an empty list \n",
    "    recovery_times = defaultdict(lambda: [])  #for each node\n",
    "\n",
    "    tau = float(tau)  #just to avoid integer division problems.\n",
    "    gamma = float(gamma)\n",
    "    \n",
    "    if initial_infecteds is None:\n",
    "        if rho is None:\n",
    "            initial_number = 1\n",
    "        else:\n",
    "            initial_number = int(round(G.order()*rho))\n",
    "        initial_infecteds=random.sample(G.nodes(), initial_number)\n",
    "    elif G.has_node(initial_infecteds):\n",
    "        initial_infecteds=[initial_infecteds]\n",
    "        \n",
    "    times, S, I, status, infected, infected_neighbor_count, risk_group = \\\n",
    "                initialize_SIS_(G, initial_infecteds, infection_times,  \n",
    "                                        recovery_times, tmin)\n",
    "    \n",
    "    total_trans_rate = tau*sum(n*len(risk_group[n]) for n in risk_group.keys())\n",
    "    total_rec_rate = gamma*len(infected)\n",
    "    total_rate = total_rec_rate + total_trans_rate\n",
    "    next_time = times[-1] + random.expovariate(total_rate)\n",
    "    \n",
    "    while next_time < tmax and infected:\n",
    "        r = random.random()*total_rate\n",
    "        \n",
    "        if r < total_rec_rate:\n",
    "            recover(G, S, I, times, infected, next_time, \n",
    "                                    status, infected_neighbor_count, \n",
    "                                    risk_group, recovery_times)\n",
    "            total_rec_rate = gamma*I[-1]\n",
    "        else:\n",
    "            infect(G, S, I, [], times, infected, next_time, \n",
    "                                infected_neighbor_count, risk_group, status, \n",
    "                                infection_times)\n",
    "        \n",
    "        total_trans_rate = tau*sum(n*len(risk_group[n]) \n",
    "                                    for n in risk_group.keys())\n",
    "        total_rate = total_rec_rate + total_trans_rate\n",
    "        if total_rate>0:\n",
    "            next_time += random.expovariate(total_rate)\n",
    "        else:\n",
    "            next_time = float('Inf')\n",
    "        \n",
    "\n",
    "    return scipy.array(times), scipy.array(S), scipy.array(I)"
   ]
  },
  {
   "cell_type": "code",
   "execution_count": 7,
   "metadata": {
    "collapsed": true
   },
   "outputs": [],
   "source": [
    "df = pd.read_excel('assoc_eng.xlsx')\n",
    "G = nx.from_pandas_dataframe(df, 'Source', 'Target', edge_attr=None, create_using=nx.DiGraph())"
   ]
  },
  {
   "cell_type": "markdown",
   "metadata": {},
   "source": [
    "### Превратим семантическую сеть в ненаправленную сеть"
   ]
  },
  {
   "cell_type": "code",
   "execution_count": 8,
   "metadata": {
    "collapsed": true
   },
   "outputs": [],
   "source": [
    "H = G.to_undirected()"
   ]
  },
  {
   "cell_type": "code",
   "execution_count": 9,
   "metadata": {
    "collapsed": true
   },
   "outputs": [],
   "source": [
    "A = nx.adjacency_matrix(H)\n",
    "A = A.todense()\n",
    "max_eigval = max(LA.eigvals(A))"
   ]
  },
  {
   "cell_type": "code",
   "execution_count": 10,
   "metadata": {},
   "outputs": [
    {
     "data": {
      "text/plain": [
       "36.56281961644973"
      ]
     },
     "execution_count": 10,
     "metadata": {},
     "output_type": "execute_result"
    }
   ],
   "source": [
    "max_eigval"
   ]
  },
  {
   "cell_type": "code",
   "execution_count": 11,
   "metadata": {},
   "outputs": [
    {
     "data": {
      "text/plain": [
       "0.02735018826475015"
      ]
     },
     "execution_count": 11,
     "metadata": {},
     "output_type": "execute_result"
    }
   ],
   "source": [
    "1 / max_eigval"
   ]
  },
  {
   "cell_type": "code",
   "execution_count": 12,
   "metadata": {
    "collapsed": true
   },
   "outputs": [],
   "source": [
    "def get_stability_time(inf_arr, num_steps, interval, eps, threshold):\n",
    "    count = 0\n",
    "    stab_time = num_steps\n",
    "    for i, j in zip(np.arange(0, num_steps - interval, 1), np.arange(interval, num_steps, 1)):\n",
    "        if abs(inf_arr[j] - inf_arr[i]) < eps:\n",
    "            count += 1\n",
    "        else:\n",
    "            count = 0\n",
    "        if count > threshold:\n",
    "            stab_time = i\n",
    "            break\n",
    "    return stab_time        "
   ]
  },
  {
   "cell_type": "code",
   "execution_count": 13,
   "metadata": {
    "collapsed": true
   },
   "outputs": [],
   "source": [
    "num_init_infected = 100\n",
    "init_inf = random.sample(set(H.nodes), num_init_infected)"
   ]
  },
  {
   "cell_type": "code",
   "execution_count": 17,
   "metadata": {},
   "outputs": [
    {
     "data": {
      "text/plain": [
       "array([0.01      , 0.05333333, 0.09666667, 0.14      , 0.18333333,\n",
       "       0.22666667, 0.27      , 0.31333333, 0.35666667, 0.4       ])"
      ]
     },
     "execution_count": 17,
     "metadata": {},
     "output_type": "execute_result"
    }
   ],
   "source": [
    "p_inf_arr = np.linspace(0.01, 0.4, 10)\n",
    "p_inf_arr"
   ]
  },
  {
   "cell_type": "code",
   "execution_count": 18,
   "metadata": {},
   "outputs": [
    {
     "name": "stdout",
     "output_type": "stream",
     "text": [
      "--------------------------------\n",
      "infection probability:  0.01\n",
      "--------------------------------\n",
      "infection probability:  0.05333333333333334\n"
     ]
    },
    {
     "ename": "KeyboardInterrupt",
     "evalue": "",
     "output_type": "error",
     "traceback": [
      "\u001b[0;31m---------------------------------------------------------------------------\u001b[0m",
      "\u001b[0;31mKeyboardInterrupt\u001b[0m                         Traceback (most recent call last)",
      "\u001b[0;32m<ipython-input-18-beba43f7751a>\u001b[0m in \u001b[0;36m<module>\u001b[0;34m()\u001b[0m\n\u001b[1;32m      9\u001b[0m     \u001b[0minf_array\u001b[0m \u001b[0;34m=\u001b[0m \u001b[0;34m[\u001b[0m\u001b[0;34m]\u001b[0m\u001b[0;34m\u001b[0m\u001b[0m\n\u001b[1;32m     10\u001b[0m     \u001b[0;32mfor\u001b[0m \u001b[0mi\u001b[0m \u001b[0;32min\u001b[0m \u001b[0mrange\u001b[0m\u001b[0;34m(\u001b[0m\u001b[0;36m100\u001b[0m\u001b[0;34m)\u001b[0m\u001b[0;34m:\u001b[0m\u001b[0;34m\u001b[0m\u001b[0m\n\u001b[0;32m---> 11\u001b[0;31m         \u001b[0mt\u001b[0m\u001b[0;34m,\u001b[0m \u001b[0mS\u001b[0m\u001b[0;34m,\u001b[0m \u001b[0mI\u001b[0m \u001b[0;34m=\u001b[0m \u001b[0mSIS\u001b[0m\u001b[0;34m(\u001b[0m\u001b[0mH\u001b[0m\u001b[0;34m,\u001b[0m \u001b[0mprob\u001b[0m\u001b[0;34m,\u001b[0m \u001b[0mgamma\u001b[0m\u001b[0;34m,\u001b[0m \u001b[0mtmax\u001b[0m \u001b[0;34m=\u001b[0m \u001b[0;36m20\u001b[0m\u001b[0;34m,\u001b[0m \u001b[0minitial_infecteds\u001b[0m \u001b[0;34m=\u001b[0m \u001b[0minit_inf\u001b[0m\u001b[0;34m)\u001b[0m\u001b[0;34m\u001b[0m\u001b[0m\n\u001b[0m\u001b[1;32m     12\u001b[0m         \u001b[0minf_array\u001b[0m\u001b[0;34m.\u001b[0m\u001b[0mappend\u001b[0m\u001b[0;34m(\u001b[0m\u001b[0mI\u001b[0m\u001b[0;34m.\u001b[0m\u001b[0mtolist\u001b[0m\u001b[0;34m(\u001b[0m\u001b[0;34m)\u001b[0m\u001b[0;34m)\u001b[0m\u001b[0;34m\u001b[0m\u001b[0m\n\u001b[1;32m     13\u001b[0m \u001b[0;34m\u001b[0m\u001b[0m\n",
      "\u001b[0;32m<ipython-input-6-7faaf3c83f08>\u001b[0m in \u001b[0;36mSIS\u001b[0;34m(G, tau, gamma, initial_infecteds, rho, tmin, tmax)\u001b[0m\n\u001b[1;32m     35\u001b[0m             infect(G, S, I, [], times, infected, next_time, \n\u001b[1;32m     36\u001b[0m                                 \u001b[0minfected_neighbor_count\u001b[0m\u001b[0;34m,\u001b[0m \u001b[0mrisk_group\u001b[0m\u001b[0;34m,\u001b[0m \u001b[0mstatus\u001b[0m\u001b[0;34m,\u001b[0m\u001b[0;34m\u001b[0m\u001b[0m\n\u001b[0;32m---> 37\u001b[0;31m                                 infection_times)\n\u001b[0m\u001b[1;32m     38\u001b[0m             \u001b[0;31m#updates variables as needed and calculates new max_trans_rate\u001b[0m\u001b[0;34m\u001b[0m\u001b[0;34m\u001b[0m\u001b[0m\n\u001b[1;32m     39\u001b[0m \u001b[0;34m\u001b[0m\u001b[0m\n",
      "\u001b[0;32m<ipython-input-4-30df7ef1eb5c>\u001b[0m in \u001b[0;36minfect\u001b[0;34m(G, S, I, R, times, infected, current_time, infected_neighbor_count, risk_group, status, infection_times)\u001b[0m\n\u001b[1;32m      2\u001b[0m                         \u001b[0minfected_neighbor_count\u001b[0m\u001b[0;34m,\u001b[0m \u001b[0mrisk_group\u001b[0m\u001b[0;34m,\u001b[0m \u001b[0mstatus\u001b[0m\u001b[0;34m,\u001b[0m\u001b[0;34m\u001b[0m\u001b[0m\n\u001b[1;32m      3\u001b[0m                         infection_times):\n\u001b[0;32m----> 4\u001b[0;31m     \u001b[0mr\u001b[0m \u001b[0;34m=\u001b[0m \u001b[0mrandom\u001b[0m\u001b[0;34m.\u001b[0m\u001b[0mrandom\u001b[0m\u001b[0;34m(\u001b[0m\u001b[0;34m)\u001b[0m\u001b[0;34m*\u001b[0m\u001b[0msum\u001b[0m\u001b[0;34m(\u001b[0m\u001b[0mn\u001b[0m\u001b[0;34m*\u001b[0m\u001b[0mlen\u001b[0m\u001b[0;34m(\u001b[0m\u001b[0mrisk_group\u001b[0m\u001b[0;34m[\u001b[0m\u001b[0mn\u001b[0m\u001b[0;34m]\u001b[0m\u001b[0;34m)\u001b[0m \u001b[0;32mfor\u001b[0m \u001b[0mn\u001b[0m \u001b[0;32min\u001b[0m \u001b[0mrisk_group\u001b[0m\u001b[0;34m.\u001b[0m\u001b[0mkeys\u001b[0m\u001b[0;34m(\u001b[0m\u001b[0;34m)\u001b[0m\u001b[0;34m)\u001b[0m\u001b[0;34m\u001b[0m\u001b[0m\n\u001b[0m\u001b[1;32m      5\u001b[0m \u001b[0;34m\u001b[0m\u001b[0m\n\u001b[1;32m      6\u001b[0m     \u001b[0;32mfor\u001b[0m \u001b[0mn\u001b[0m \u001b[0;32min\u001b[0m \u001b[0mrisk_group\u001b[0m\u001b[0;34m.\u001b[0m\u001b[0mkeys\u001b[0m\u001b[0;34m(\u001b[0m\u001b[0;34m)\u001b[0m\u001b[0;34m:\u001b[0m\u001b[0;34m\u001b[0m\u001b[0m\n",
      "\u001b[0;32m<ipython-input-4-30df7ef1eb5c>\u001b[0m in \u001b[0;36m<genexpr>\u001b[0;34m(.0)\u001b[0m\n\u001b[1;32m      2\u001b[0m                         \u001b[0minfected_neighbor_count\u001b[0m\u001b[0;34m,\u001b[0m \u001b[0mrisk_group\u001b[0m\u001b[0;34m,\u001b[0m \u001b[0mstatus\u001b[0m\u001b[0;34m,\u001b[0m\u001b[0;34m\u001b[0m\u001b[0m\n\u001b[1;32m      3\u001b[0m                         infection_times):\n\u001b[0;32m----> 4\u001b[0;31m     \u001b[0mr\u001b[0m \u001b[0;34m=\u001b[0m \u001b[0mrandom\u001b[0m\u001b[0;34m.\u001b[0m\u001b[0mrandom\u001b[0m\u001b[0;34m(\u001b[0m\u001b[0;34m)\u001b[0m\u001b[0;34m*\u001b[0m\u001b[0msum\u001b[0m\u001b[0;34m(\u001b[0m\u001b[0mn\u001b[0m\u001b[0;34m*\u001b[0m\u001b[0mlen\u001b[0m\u001b[0;34m(\u001b[0m\u001b[0mrisk_group\u001b[0m\u001b[0;34m[\u001b[0m\u001b[0mn\u001b[0m\u001b[0;34m]\u001b[0m\u001b[0;34m)\u001b[0m \u001b[0;32mfor\u001b[0m \u001b[0mn\u001b[0m \u001b[0;32min\u001b[0m \u001b[0mrisk_group\u001b[0m\u001b[0;34m.\u001b[0m\u001b[0mkeys\u001b[0m\u001b[0;34m(\u001b[0m\u001b[0;34m)\u001b[0m\u001b[0;34m)\u001b[0m\u001b[0;34m\u001b[0m\u001b[0m\n\u001b[0m\u001b[1;32m      5\u001b[0m \u001b[0;34m\u001b[0m\u001b[0m\n\u001b[1;32m      6\u001b[0m     \u001b[0;32mfor\u001b[0m \u001b[0mn\u001b[0m \u001b[0;32min\u001b[0m \u001b[0mrisk_group\u001b[0m\u001b[0;34m.\u001b[0m\u001b[0mkeys\u001b[0m\u001b[0;34m(\u001b[0m\u001b[0;34m)\u001b[0m\u001b[0;34m:\u001b[0m\u001b[0;34m\u001b[0m\u001b[0m\n",
      "\u001b[0;32m<ipython-input-2-0a7dac3dba7a>\u001b[0m in \u001b[0;36m__len__\u001b[0;34m(self)\u001b[0m\n\u001b[1;32m      6\u001b[0m \u001b[0;34m\u001b[0m\u001b[0m\n\u001b[1;32m      7\u001b[0m     \u001b[0;32mdef\u001b[0m \u001b[0m__len__\u001b[0m\u001b[0;34m(\u001b[0m\u001b[0mself\u001b[0m\u001b[0;34m)\u001b[0m\u001b[0;34m:\u001b[0m\u001b[0;34m\u001b[0m\u001b[0m\n\u001b[0;32m----> 8\u001b[0;31m         \u001b[0;32mreturn\u001b[0m \u001b[0mlen\u001b[0m\u001b[0;34m(\u001b[0m\u001b[0mself\u001b[0m\u001b[0;34m.\u001b[0m\u001b[0mitems\u001b[0m\u001b[0;34m)\u001b[0m\u001b[0;34m\u001b[0m\u001b[0m\n\u001b[0m\u001b[1;32m      9\u001b[0m \u001b[0;34m\u001b[0m\u001b[0m\n\u001b[1;32m     10\u001b[0m     \u001b[0;32mdef\u001b[0m \u001b[0madd\u001b[0m\u001b[0;34m(\u001b[0m\u001b[0mself\u001b[0m\u001b[0;34m,\u001b[0m \u001b[0mitem\u001b[0m\u001b[0;34m)\u001b[0m\u001b[0;34m:\u001b[0m\u001b[0;34m\u001b[0m\u001b[0m\n",
      "\u001b[0;31mKeyboardInterrupt\u001b[0m: "
     ]
    }
   ],
   "source": [
    "initial_size = 100\n",
    "gamma = 1.\n",
    "t_stab = []\n",
    "std_array = []\n",
    "for prob in p_inf_arr:\n",
    "    print(\"--------------------------------\")\n",
    "    print(\"infection probability: \", prob)\n",
    "    \n",
    "    inf_array = []\n",
    "    for i in range(100):\n",
    "        t, S, I = SIS(H, prob, gamma, tmax = 20, initial_infecteds = init_inf)\n",
    "        inf_array.append(I.tolist())\n",
    "        \n",
    "    #bug-fix: заполняем последними значениями списки зараженных для единообразия\n",
    "    max_len = max([len(arr) for arr in inf_array])\n",
    "    for arr in inf_array:\n",
    "        if len(arr) < max_len:\n",
    "            last_elem = arr[-1]\n",
    "            for j in range(max_len - len(arr)):\n",
    "                arr.append(last_elem)\n",
    "    \n",
    "    ens_inf = np.stack((inf_array), axis = -1)\n",
    "    std_inf = [np.std(lst) for lst in ens_inf]\n",
    "    avrg_inf = [np.mean(lst) for lst in ens_inf]\n",
    "    stab_time = get_stability_time(avrg_inf, len(t), 100, 0.1, 5)\n",
    "    \n",
    "    std_array.append(std_inf[stab_time - 1])\n",
    "    t_stab.append(t[stab_time - 1])"
   ]
  },
  {
   "cell_type": "code",
   "execution_count": null,
   "metadata": {
    "collapsed": true
   },
   "outputs": [],
   "source": [
    "tau_arr = np.linspace(0.001, 0.2, 10)\n",
    "tau_arr"
   ]
  },
  {
   "cell_type": "code",
   "execution_count": null,
   "metadata": {
    "collapsed": true
   },
   "outputs": [],
   "source": [
    "initial_size = 100\n",
    "gamma = 1.\n",
    "tau = 0.004\n",
    "init_inf = random.sample(set(G.nodes), initial_size)\n",
    "I_arr, t_arr = [], []\n",
    "for tau in (tau_arr):\n",
    "    print(tau)\n",
    "    t, S, I = SIS(G, tau, gamma, tmax = 150,\n",
    "                        initial_infecteds = init_inf)\n",
    "    I_arr.append(I)\n",
    "    t_arr.append(t)"
   ]
  },
  {
   "cell_type": "code",
   "execution_count": null,
   "metadata": {
    "collapsed": true
   },
   "outputs": [],
   "source": [
    "fig, ax = plt.subplots(figsize=(10, 6))\n",
    "ax.plot(t_arr[0], I_arr[0], label= \"p = \" + str(round(tau_arr[0], 3)))\n",
    "\n",
    "ax.plot(t_arr[1], I_arr[1], label= \"p = \" + str(round(tau_arr[1], 3)))\n",
    "\n",
    "ax.plot(t_arr[2], I_arr[2], label= \"p = \" + str(round(tau_arr[2], 3)))\n",
    "\n",
    "ax.plot(t_arr[3], I_arr[3], label= \"p = \" + str(round(tau_arr[3], 3)))\n",
    "\n",
    "ax.legend(loc='upper right')\n",
    "ax.grid(True)\n",
    "ax.set_title('Number of infected as a function of time')\n",
    "ax.set_xlabel('Time')\n",
    "ax.set_ylabel('Infectives')\n",
    "plt.show()"
   ]
  },
  {
   "cell_type": "code",
   "execution_count": null,
   "metadata": {
    "collapsed": true
   },
   "outputs": [],
   "source": [
    "fig, ax = plt.subplots(figsize=(10, 6))\n",
    "\n",
    "ax.plot(t_arr[4], I_arr[4], label= \"p = \" + str(round(tau_arr[4], 3)))\n",
    "\n",
    "ax.plot(t_arr[5], I_arr[5], label= \"p = \" + str(round(tau_arr[5], 3)))\n",
    "\n",
    "ax.plot(t_arr[6], I_arr[6], label= \"p = \" + str(round(tau_arr[6], 3)))\n",
    "\n",
    "ax.plot(t_arr[7], I_arr[7], label= \"p = \" + str(round(tau_arr[7], 3)))\n",
    "\n",
    "ax.plot(t_arr[8], I_arr[8], label= \"p = \" + str(round(tau_arr[8], 3)))\n",
    "\n",
    "ax.plot(t_arr[9], I_arr[9], label= \"p = \" + str(round(tau_arr[9], 3)))\n",
    "\n",
    "ax.legend(loc='lower right')\n",
    "ax.grid(True)\n",
    "ax.set_title('Number of infected as a function of time')\n",
    "ax.set_xlabel('Time')\n",
    "ax.set_ylabel('Infectives')\n",
    "plt.show()"
   ]
  }
 ],
 "metadata": {
  "kernelspec": {
   "display_name": "Python 3",
   "language": "python",
   "name": "python3"
  },
  "language_info": {
   "codemirror_mode": {
    "name": "ipython",
    "version": 3
   },
   "file_extension": ".py",
   "mimetype": "text/x-python",
   "name": "python",
   "nbconvert_exporter": "python",
   "pygments_lexer": "ipython3",
   "version": "3.6.3"
  }
 },
 "nbformat": 4,
 "nbformat_minor": 2
}
