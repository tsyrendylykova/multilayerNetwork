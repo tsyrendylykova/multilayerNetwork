{
 "cells": [
  {
   "cell_type": "code",
   "execution_count": 19,
   "metadata": {
    "collapsed": true
   },
   "outputs": [],
   "source": [
    "import numpy as np\n",
    "import networkx as nx\n",
    "import random\n",
    "from collections import defaultdict\n",
    "import matplotlib.pyplot as plt\n",
    "from numpy import linalg as LA\n",
    "import scipy\n",
    "%matplotlib inline"
   ]
  },
  {
   "cell_type": "code",
   "execution_count": 11,
   "metadata": {},
   "outputs": [],
   "source": [
    "class _ListDict_(object):\n",
    "    \n",
    "    def __init__(self):\n",
    "        self.item_to_position = {}\n",
    "        self.items = []\n",
    "\n",
    "    def __len__(self):\n",
    "        return len(self.items)\n",
    "\n",
    "    def add(self, item):\n",
    "        if item in self.item_to_position:\n",
    "            return\n",
    "        self.items.append(item)\n",
    "        self.item_to_position[item] = len(self.items)-1\n",
    "\n",
    "    def remove(self, item):\n",
    "        position = self.item_to_position.pop(item)\n",
    "        last_item = self.items.pop()\n",
    "        if position != len(self.items):\n",
    "            self.items[position] = last_item\n",
    "            self.item_to_position[last_item] = position\n",
    "\n",
    "    def choose_random(self):\n",
    "        return random.choice(self.items)"
   ]
  },
  {
   "cell_type": "code",
   "execution_count": 12,
   "metadata": {
    "collapsed": true
   },
   "outputs": [],
   "source": [
    "def _Gillespie_initialize_SIS_(G, initial_infecteds, infection_times, \n",
    "                                recovery_times, tmin, return_full_data):\n",
    "    '''Initializes the network'''\n",
    "    times = [tmin]\n",
    "    S = [G.order()-len(initial_infecteds)]\n",
    "    I = [len(initial_infecteds)]\n",
    "    status = defaultdict(lambda:'S') #by default all are susceptible\n",
    "    infected = list(initial_infecteds)\n",
    "    infected_neighbor_count = defaultdict(lambda:0)\n",
    "    risk_group = defaultdict(lambda:_ListDict_()) \n",
    "    for node in initial_infecteds:\n",
    "        status[node] = 'I'\n",
    "    for node in initial_infecteds:\n",
    "        for neighbor in G.neighbors(node):\n",
    "            if status[neighbor] == 'S':\n",
    "                infected_neighbor_count[neighbor] += 1\n",
    "                if infected_neighbor_count[neighbor]>1:\n",
    "                    risk_group[infected_neighbor_count[neighbor]-1].remove(\n",
    "                                                                    neighbor)\n",
    "                risk_group[infected_neighbor_count[neighbor]].add(neighbor)\n",
    "\n",
    "    if return_full_data:\n",
    "        for node in initial_infecteds:\n",
    "            infection_times[node] = [tmin]\n",
    "    return times, S, I, status, infected, infected_neighbor_count, risk_group"
   ]
  },
  {
   "cell_type": "code",
   "execution_count": 86,
   "metadata": {
    "collapsed": true
   },
   "outputs": [],
   "source": [
    "def _Gillespie_infect_(G, S, I, R, times, infected, current_time, \n",
    "                        infected_neighbor_count, risk_group, status, \n",
    "                        infection_times, return_full_data, SIR=True):\n",
    "    r = random.random()*sum(n*len(risk_group[n]) for n in risk_group.keys())\n",
    "    for n in risk_group.keys():\n",
    "        r-= n*len(risk_group[n])\n",
    "        if r<0:\n",
    "            break\n",
    "    #we've got n now\n",
    "\n",
    "    recipient = risk_group[n].choose_random()\n",
    "    assert(status[recipient]=='S')\n",
    "    risk_group[n].remove(recipient)\n",
    "    infected.append(recipient)\n",
    "    infection_times[recipient].append(current_time)\n",
    "    status[recipient]='I'\n",
    "    S.append(S[-1]-1)\n",
    "    I.append(I[-1]+1)\n",
    "    times.append(current_time)\n",
    "    if SIR:\n",
    "        R.append(R[-1])\n",
    "\n",
    "    for neighbor in G.neighbors(recipient):\n",
    "        if status[neighbor]=='S':\n",
    "            if infected_neighbor_count[neighbor]>0:\n",
    "                risk_group[infected_neighbor_count[neighbor]].remove(neighbor)\n",
    "            infected_neighbor_count[neighbor]+=1\n",
    "            risk_group[infected_neighbor_count[neighbor]].add(neighbor)"
   ]
  },
  {
   "cell_type": "code",
   "execution_count": 87,
   "metadata": {
    "collapsed": true
   },
   "outputs": [],
   "source": [
    "def _Gillespie_recover_SIS_(G, S, I, times, infected, current_time, status, \n",
    "                            infected_neighbor_count, risk_group, \n",
    "                            recovery_times, return_full_data):\n",
    "    assert(I[-1]==len(infected))\n",
    "    index = random.randint(0,I[-1]-1)\n",
    "    infected[index], infected[-1] = infected[-1], infected[index] \n",
    "                    #http://stackoverflow.com/a/14088129/2966723\n",
    "    recovering_node = infected.pop()\n",
    "\n",
    "    I.append(I[-1]-1)\n",
    "    status[recovering_node]='S'\n",
    "    S.append(S[-1]+1)\n",
    "    times.append(current_time)\n",
    "    infected_neighbor_count[recovering_node] = 0\n",
    "    for neighbor in G.neighbors(recovering_node):\n",
    "        if neighbor == recovering_node:\n",
    "            continue  #Deals with selfloops\n",
    "                      #there is probably a good way to count the \n",
    "                      #number of infected neighbors\n",
    "        if status[neighbor] == 'I':\n",
    "            infected_neighbor_count[recovering_node] += 1\n",
    "        else: #neighbor susceptible, its risk just got smaller\n",
    "            risk_group[infected_neighbor_count[neighbor]].remove(neighbor)\n",
    "            infected_neighbor_count[neighbor] -= 1\n",
    "            if infected_neighbor_count[neighbor]>0:\n",
    "                risk_group[infected_neighbor_count[neighbor]].add(neighbor)\n",
    "    if infected_neighbor_count[recovering_node]>0:\n",
    "        risk_group[infected_neighbor_count[recovering_node]].add(\n",
    "                                                            recovering_node)\n",
    "    if return_full_data:\n",
    "        recovery_times[recovering_node].append(current_time)\n"
   ]
  },
  {
   "cell_type": "code",
   "execution_count": 79,
   "metadata": {
    "collapsed": true
   },
   "outputs": [],
   "source": [
    "def Gillespie_SIS(G, tau, gamma, initial_infecteds=None, rho = None, tmin = 0,\n",
    "                    tmax=100, return_full_data = False):\n",
    "\n",
    "    infection_times = defaultdict(lambda: []) #defaults to an empty list \n",
    "    recovery_times = defaultdict(lambda: [])  #for each node\n",
    "\n",
    "    tau = float(tau)  #just to avoid integer division problems.\n",
    "    gamma = float(gamma)\n",
    "    \n",
    "    if initial_infecteds is None:\n",
    "        if rho is None:\n",
    "            initial_number = 1\n",
    "        else:\n",
    "            initial_number = int(round(G.order()*rho))\n",
    "        initial_infecteds=random.sample(G.nodes(), initial_number)\n",
    "    elif G.has_node(initial_infecteds):\n",
    "        initial_infecteds=[initial_infecteds]\n",
    "        \n",
    "    times, S, I, status, infected, infected_neighbor_count, risk_group = \\\n",
    "                _Gillespie_initialize_SIS_(G, initial_infecteds, infection_times,  \n",
    "                                        recovery_times, tmin, return_full_data)\n",
    "    #note that at this point times, S, and I must all be lists \n",
    "    \n",
    "    #since we will be appending to them\n",
    "\n",
    "    total_trans_rate = tau*sum(n*len(risk_group[n]) \n",
    "                                    for n in risk_group.keys())\n",
    "    total_rec_rate = gamma*len(infected)\n",
    "    total_rate = total_rec_rate + total_trans_rate\n",
    "    next_time = times[-1] + random.expovariate(total_rate)\n",
    "    while next_time<tmax and infected:\n",
    "        r = random.random()*total_rate\n",
    "        if r<total_rec_rate:\n",
    "            #a recovery occurs\n",
    "            _Gillespie_recover_SIS_(G, S, I, times, infected, next_time, \n",
    "                                    status, infected_neighbor_count, \n",
    "                                    risk_group, recovery_times, \n",
    "                                    return_full_data)\n",
    "            total_rec_rate = gamma*I[-1]\n",
    "        else:\n",
    "            #an infection occurs\n",
    "            _Gillespie_infect_(G, S, I, [], times, infected, next_time, \n",
    "                                infected_neighbor_count, risk_group, status, \n",
    "                                infection_times, return_full_data, SIR=False)\n",
    "            #updates variables as needed and calculates new max_trans_rate\n",
    "        total_trans_rate = tau*sum(n*len(risk_group[n]) \n",
    "                                    for n in risk_group.keys())\n",
    "        total_rate = total_rec_rate + total_trans_rate\n",
    "        if total_rate>0:\n",
    "            next_time += random.expovariate(total_rate)\n",
    "        else:  #occurs if everyone recovered\n",
    "            next_time = float('Inf')\n",
    "        #        print next_time, I[-1]\n",
    "\n",
    "    if not return_full_data:\n",
    "        return scipy.array(times), scipy.array(S), scipy.array(I)\n",
    "    #else:\n",
    "    #    node_history = _transform_to_node_history_(infection_times, recovery_times, tmin, SIR = False)\n",
    "    #    return EoN.Simulation_Investigation(G, node_history, SIR=False)"
   ]
  },
  {
   "cell_type": "markdown",
   "metadata": {},
   "source": [
    "## Пример 1"
   ]
  },
  {
   "cell_type": "code",
   "execution_count": 102,
   "metadata": {},
   "outputs": [
    {
     "data": {
      "text/plain": [
       "[<matplotlib.lines.Line2D at 0x159f5ba278>]"
      ]
     },
     "execution_count": 102,
     "metadata": {},
     "output_type": "execute_result"
    },
    {
     "data": {
      "image/png": "[encoded data removed]",
      "text/plain": [
       "<matplotlib.figure.Figure at 0x1575472cf8>"
      ]
     },
     "metadata": {},
     "output_type": "display_data"
    }
   ],
   "source": [
    "#G = nx.configuration_model([1,5,10]*100000)\n",
    "G = nx.erdos_renyi_graph(1000, 0.05)\n",
    "initial_size = 100\n",
    "gamma = 1.\n",
    "tau = 0.05\n",
    "t, S, I = Gillespie_SIS(G, tau, gamma, tmax = 20,\n",
    "                        initial_infecteds = range(initial_size))\n",
    "\n",
    "plt.plot(t, I)"
   ]
  },
  {
   "cell_type": "code",
   "execution_count": 95,
   "metadata": {
    "collapsed": true
   },
   "outputs": [],
   "source": [
    "def get_stability_time(inf_arr, num_steps, interval, eps, threshold):\n",
    "    count = 0\n",
    "    stab_time = num_steps\n",
    "    for i, j in zip(np.arange(0, num_steps - interval, 1), np.arange(interval, num_steps, 1)):\n",
    "        if abs(inf_arr[j] - inf_arr[i]) < eps:\n",
    "            count += 1\n",
    "        else:\n",
    "            count = 0\n",
    "        if count > threshold:\n",
    "            stab_time = i\n",
    "            break\n",
    "    return stab_time        "
   ]
  },
  {
   "cell_type": "code",
   "execution_count": 108,
   "metadata": {
    "scrolled": false
   },
   "outputs": [
    {
     "data": {
      "text/plain": [
       "2.8424202300647026"
      ]
     },
     "execution_count": 108,
     "metadata": {},
     "output_type": "execute_result"
    }
   ],
   "source": [
    "stab_time = get_stability_time(I, len(t), 100, 0.1, 5)\n",
    "t[stab_time - 1]"
   ]
  },
  {
   "cell_type": "markdown",
   "metadata": {},
   "source": [
    "## Пример 2"
   ]
  },
  {
   "cell_type": "code",
   "execution_count": 109,
   "metadata": {},
   "outputs": [
    {
     "data": {
      "text/plain": [
       "[<matplotlib.lines.Line2D at 0x159fd48198>]"
      ]
     },
     "execution_count": 109,
     "metadata": {},
     "output_type": "execute_result"
    },
    {
     "data": {
      "image/png": "[encoded data removed]",
      "text/plain": [
       "<matplotlib.figure.Figure at 0x1575468b00>"
      ]
     },
     "metadata": {},
     "output_type": "display_data"
    }
   ],
   "source": [
    "#G = nx.configuration_model([1,5,10]*100000)\n",
    "G = nx.erdos_renyi_graph(1000, 0.05)\n",
    "initial_size = 100\n",
    "gamma = 1.\n",
    "tau = 0.2\n",
    "t, S, I = Gillespie_SIS(G, tau, gamma, tmax = 20,\n",
    "                        initial_infecteds = range(initial_size))\n",
    "\n",
    "plt.plot(t, I)"
   ]
  },
  {
   "cell_type": "code",
   "execution_count": 112,
   "metadata": {},
   "outputs": [
    {
     "data": {
      "text/plain": [
       "1.2863774773504808"
      ]
     },
     "execution_count": 112,
     "metadata": {},
     "output_type": "execute_result"
    }
   ],
   "source": [
    "stab_time = get_stability_time(I, len(t), 100, 0.1, 5)\n",
    "t[stab_time - 1]"
   ]
  },
  {
   "cell_type": "markdown",
   "metadata": {},
   "source": [
    "## Ансабль из 100 сетей"
   ]
  },
  {
   "cell_type": "code",
   "execution_count": 88,
   "metadata": {
    "collapsed": true
   },
   "outputs": [],
   "source": [
    "network_arr = np.arange(100)\n",
    "N = 1000\n",
    "p = 0.05\n",
    "G_ensemble = []\n",
    "for _ in network_arr:\n",
    "    G_ensemble.append(nx.erdos_renyi_graph(N, p))"
   ]
  },
  {
   "cell_type": "markdown",
   "metadata": {},
   "source": [
    "### Построим зависимость времени стабилизации от вероятности заражения"
   ]
  },
  {
   "cell_type": "code",
   "execution_count": 135,
   "metadata": {},
   "outputs": [
    {
     "data": {
      "text/plain": [
       "array([0.01      , 0.03111111, 0.05222222, 0.07333333, 0.09444444,\n",
       "       0.11555556, 0.13666667, 0.15777778, 0.17888889, 0.2       ])"
      ]
     },
     "execution_count": 135,
     "metadata": {},
     "output_type": "execute_result"
    }
   ],
   "source": [
    "p_inf_arr = np.linspace(0.01, 0.2, 10)\n",
    "p_inf_arr"
   ]
  },
  {
   "cell_type": "code",
   "execution_count": 136,
   "metadata": {},
   "outputs": [
    {
     "name": "stdout",
     "output_type": "stream",
     "text": [
      "--------------------------------\n",
      "infection probability:  0.01\n",
      "--------------------------------\n",
      "infection probability:  0.03111111111111111\n",
      "--------------------------------\n",
      "infection probability:  0.052222222222222225\n",
      "--------------------------------\n",
      "infection probability:  0.07333333333333333\n",
      "--------------------------------\n",
      "infection probability:  0.09444444444444444\n",
      "--------------------------------\n",
      "infection probability:  0.11555555555555555\n",
      "--------------------------------\n",
      "infection probability:  0.1366666666666667\n",
      "--------------------------------\n",
      "infection probability:  0.1577777777777778\n",
      "--------------------------------\n",
      "infection probability:  0.1788888888888889\n",
      "--------------------------------\n",
      "infection probability:  0.2\n"
     ]
    }
   ],
   "source": [
    "initial_size = 100\n",
    "gamma = 1.\n",
    "t_stab = []\n",
    "for prob in p_inf_arr:\n",
    "    print(\"--------------------------------\")\n",
    "    print(\"infection probability: \", prob)\n",
    "    \n",
    "    inf_array = []\n",
    "    for g in G_ensemble:\n",
    "        t, S, I = Gillespie_SIS(g, prob, gamma, tmax = 20, initial_infecteds = range(initial_size))\n",
    "        inf_array.append(I.tolist())\n",
    "        \n",
    "    #bug-fix: заполняем последними значениями списки зараженных для единообразия\n",
    "    max_len = max([len(arr) for arr in inf_array])\n",
    "    for arr in inf_array:\n",
    "        if len(arr) < max_len:\n",
    "            last_elem = arr[-1]\n",
    "            for j in range(max_len - len(arr)):\n",
    "                arr.append(last_elem)\n",
    "    \n",
    "    ens_inf = np.stack((inf_array), axis=-1)\n",
    "    avrg_inf = [np.mean(lst) for lst in ens_inf]\n",
    "    stab_time = get_stability_time(avrg_inf, len(t), 100, 0.1, 5)\n",
    "    t_stab.append(t[stab_time - 1])"
   ]
  },
  {
   "cell_type": "code",
   "execution_count": 138,
   "metadata": {},
   "outputs": [
    {
     "data": {
      "text/plain": [
       "Text(0.5,1,'SIS model on Erdos-Renyu network (ensemble)')"
      ]
     },
     "execution_count": 138,
     "metadata": {},
     "output_type": "execute_result"
    },
    {
     "data": {
      "image/png": "[encoded data removed]",
      "text/plain": [
       "<matplotlib.figure.Figure at 0x15706abfd0>"
      ]
     },
     "metadata": {},
     "output_type": "display_data"
    }
   ],
   "source": [
    "f = plt.figure()\n",
    "plt.plot(p_inf_arr, t_stab, 'o-')\n",
    "plt.xlabel('infection probability')\n",
    "plt.ylabel('stabilization time')\n",
    "plt.title('SIS model on Erdos-Renyu network (ensemble)')"
   ]
  },
  {
   "cell_type": "code",
   "execution_count": null,
   "metadata": {
    "collapsed": true
   },
   "outputs": [],
   "source": []
  }
 ],
 "metadata": {
  "kernelspec": {
   "display_name": "Python 3",
   "language": "python",
   "name": "python3"
  },
  "language_info": {
   "codemirror_mode": {
    "name": "ipython",
    "version": 3
   },
   "file_extension": ".py",
   "mimetype": "text/x-python",
   "name": "python",
   "nbconvert_exporter": "python",
   "pygments_lexer": "ipython3",
   "version": "3.6.3"
  }
 },
 "nbformat": 4,
 "nbformat_minor": 2
}
